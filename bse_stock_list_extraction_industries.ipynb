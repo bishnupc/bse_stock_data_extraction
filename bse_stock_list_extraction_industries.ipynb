{
 "cells": [
  {
   "cell_type": "code",
   "execution_count": 40,
   "metadata": {},
   "outputs": [],
   "source": [
    "import pandas as pd\n",
    "import numpy as np\n",
    "from selenium.webdriver import Chrome, ChromeOptions\n",
    "from selenium.webdriver.common.keys import Keys\n",
    "from time import sleep\n",
    "import timeit\n",
    "import csv\n",
    "import logging"
   ]
  },
  {
   "cell_type": "code",
   "execution_count": 41,
   "metadata": {},
   "outputs": [],
   "source": [
    "logger = logging.getLogger()\n",
    "logger.disabled = False"
   ]
  },
  {
   "cell_type": "code",
   "execution_count": 42,
   "metadata": {},
   "outputs": [],
   "source": [
    "browser = Chrome(executable_path=r\"D:\\Learning\\web_driveres\\chrome\\chromedriver.exe\")\n",
    "# sleep(2)\n",
    "browser.get('https://www.bseindia.com/')"
   ]
  },
  {
   "attachments": {
    "image.png": {
     "image/png": "[encoded data removed]"
    }
   },
   "cell_type": "markdown",
   "metadata": {},
   "source": [
    "## Read the data from CSV\n",
    "\n",
    "The csv file should have data in below format\n",
    "\n",
    "![image.png](attachment:image.png)\n"
   ]
  },
  {
   "cell_type": "code",
   "execution_count": 43,
   "metadata": {},
   "outputs": [],
   "source": [
    "stock_list = pd.read_csv('bse_list.csv')"
   ]
  },
  {
   "cell_type": "markdown",
   "metadata": {},
   "source": [
    "# The function to derive the scrapping data\n",
    "* It will take input the BSE Code"
   ]
  },
  {
   "cell_type": "code",
   "execution_count": 44,
   "metadata": {},
   "outputs": [],
   "source": [
    "def derive_industry(code):\n",
    "    search_box = browser.find_element_by_xpath('//*[@id=\"getquotesearch\"]')\n",
    "    search_box.clear()\n",
    "    search_box.send_keys(code)\n",
    "    sleep(1)\n",
    "    search_box.send_keys(Keys.SPACE)\n",
    "    sleep(1)\n",
    "    search_box.send_keys(Keys.BACKSPACE)\n",
    "    sleep(1)\n",
    "    search_box.send_keys(Keys.RETURN)\n",
    "    cnt = 0\n",
    "    industry_val = ''\n",
    "    index_val = ''\n",
    "    try:\n",
    "        while cnt <= 4:\n",
    "            industry = browser.find_element_by_xpath('//*[@id=\"getquoteheader\"]/div[6]/div[3]/div/div[5]/div/table/tbody/tr[7]/td[1]')    \n",
    "            if industry.text == 'Industry':\n",
    "                derived_code = browser.find_element_by_xpath('//*[@id=\"getquoteheader\"]/div[6]/div[2]/div/div[1]/div[1]/div[1]/div[2]/div/div[2]').text.split('|')[1].strip()\n",
    "                if derived_code == code:\n",
    "                    industry_val = browser.find_element_by_xpath('//*[@id=\"getquoteheader\"]/div[6]/div[3]/div/div[5]/div/table/tbody/tr[7]/td[2]').text\n",
    "                    index_val = browser.find_element_by_xpath('//*[@id=\"getquoteheader\"]/div[6]/div[3]/div/div[5]/div/table/tbody/tr[5]/td[2]').text\n",
    "                else:\n",
    "                    industry_val = 'Scrapper derived wrong code here, so no value'\n",
    "                    index_val = derived_code\n",
    "                break\n",
    "            cnt += 1\n",
    "            sleep(0.5)    \n",
    "            logger.info(cnt)\n",
    "    except:\n",
    "        industry_val = ''\n",
    "        index_val = ''\n",
    "    return [industry_val,index_val]\n"
   ]
  },
  {
   "cell_type": "markdown",
   "metadata": {},
   "source": [
    "## Loop through the data and invoke the function"
   ]
  },
  {
   "cell_type": "code",
   "execution_count": 45,
   "metadata": {},
   "outputs": [
    {
     "name": "stdout",
     "output_type": "stream",
     "text": [
      "0 500570 TATAMOTORS ['Commercial Vehicles', 'S&P BSE 100']\n",
      "1 500325 RELIANCE ['Integrated Oil & Gas', 'S&P BSE SENSEX']\n",
      "2 532540 TCS ['IT Consulting & Software', 'S&P BSE SENSEX']\n",
      "3 500477 ASHOKLEY ['Commercial Vehicles', 'S&P BSE 100']\n",
      "4 500470 TATASTEEL ['Iron & Steel/Interm.Products', 'S&P BSE 100']\n",
      "69.48852119999992\n"
     ]
    }
   ],
   "source": [
    "stock_list_output = pd.DataFrame(columns=['Code','Name','Group','Industry','Index'])\n",
    "starttime = timeit.default_timer()\n",
    "for index, row in stock_list.iterrows():\n",
    "    func_res = derive_industry(str(row[0]))\n",
    "    print(index,row[0],row[1],func_res)\n",
    "    stock_list_output.loc[index+1] = [row[0],row[1],row[2]]+func_res\n",
    "endtime = timeit.default_timer()\n",
    "print(endtime-starttime)"
   ]
  },
  {
   "cell_type": "markdown",
   "metadata": {},
   "source": [
    "### Result Output to CSV"
   ]
  },
  {
   "cell_type": "code",
   "execution_count": 46,
   "metadata": {
    "scrolled": true
   },
   "outputs": [],
   "source": [
    "stock_list_output.to_csv('bse_result.csv', encoding='utf-8', index=False)"
   ]
  },
  {
   "cell_type": "markdown",
   "metadata": {},
   "source": [
    "# Deriveation for a single code"
   ]
  },
  {
   "cell_type": "code",
   "execution_count": 37,
   "metadata": {},
   "outputs": [
    {
     "name": "stdout",
     "output_type": "stream",
     "text": [
      "['Airlines', 'S&P BSE 100']\n"
     ]
    }
   ],
   "source": [
    "print(derive_industry('539448'))"
   ]
  }
 ],
 "metadata": {
  "kernelspec": {
   "display_name": "Python 3",
   "language": "python",
   "name": "python3"
  },
  "language_info": {
   "codemirror_mode": {
    "name": "ipython",
    "version": 3
   },
   "file_extension": ".py",
   "mimetype": "text/x-python",
   "name": "python",
   "nbconvert_exporter": "python",
   "pygments_lexer": "ipython3",
   "version": "3.8.3"
  }
 },
 "nbformat": 4,
 "nbformat_minor": 4
}
